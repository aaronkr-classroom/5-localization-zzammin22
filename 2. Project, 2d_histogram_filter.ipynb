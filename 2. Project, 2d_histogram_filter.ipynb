{
 "cells": [
  {
   "cell_type": "markdown",
   "metadata": {},
   "source": [
    "# Two Dimensional Histogram Filter - Your First Feature (and your first bug).\n",
    "Writing code is important. But a big part of being on a self driving car team is working with a **large** existing codebase. On high stakes engineering projects like a self driving car, you will probably have to earn the trust of your managers and coworkers before they'll let you make substantial changes to the code base. \n",
    "\n",
    "A typical assignment for someone new to a team is to make progress on a backlog of bugs. So with that in mind, that's what you will be doing for your first project in the Nanodegree.\n",
    "\n",
    "You'll go through this project in a few parts:\n",
    "\n",
    "1. **Explore the Code** - don't worry about bugs at this point. The goal is to get a feel for how this code base is organized and what everything does.\n",
    "2. **Implement a Feature** - write code that gets the robot moving correctly.\n",
    "3. **Fix a Bug** - Implementing motion will reveal a bug which hadn't shown up before. Here you'll identify what the bug is and take steps to reproduce it. Then you'll identify the cause and fix it.\n"
   ]
  },
  {
   "cell_type": "markdown",
   "metadata": {},
   "source": [
    "## Part 1: Exploring the code\n",
    "In this section you will just run some existing code to get a feel for what this localizer does.\n",
    "\n",
    "You can navigate through this notebook using the arrow keys on your keyboard. You can run the code in a cell by pressing **`Ctrl + Enter`**\n",
    "\n",
    "Navigate through the cells below. In each cell you should\n",
    "\n",
    "1. Read through the code. It's okay to not understand everything at this point. \n",
    "2. Make a guess about what will happen when you run the code. \n",
    "3. Run the code and compare what you see with what you expected. \n",
    "4. When you get to a **TODO** read the instructions carefully and complete the activity.\n",
    "\n",
    "## 1부: 코드 탐색\n",
    "이 섹션에서는 기존 코드를 실행하여 이 로컬라이저가 하는 일을 느껴보겠습니다.\n",
    "\n",
    "키보드의 화살표 키를 사용하여 이 노트북을 탐색할 수 있습니다. **`Ctrl + Enter`**를 눌러 셀에서 코드를 실행할 수 있습니다.\n",
    "\n",
    "아래 셀을 탐색합니다. 각 셀에서\n",
    "\n",
    "1. 코드를 읽어보세요. 이 시점에서 모든 것을 이해하지 못해도 괜찮습니다.\n",
    "2. 코드를 실행하면 무슨 일이 일어날지 추측해 보세요.\n",
    "3. 코드를 실행하고 예상한 것과 보이는 것을 비교하세요.\n",
    "4. **TODO**에 도달하면 지침을 주의 깊게 읽고 활동을 완료하세요."
   ]
  },
  {
   "cell_type": "code",
   "execution_count": 23,
   "metadata": {},
   "outputs": [
    {
     "name": "stdout",
     "output_type": "stream",
     "text": [
      "The autoreload extension is already loaded. To reload it, use:\n",
      "  %reload_ext autoreload\n"
     ]
    },
    {
     "name": "stderr",
     "output_type": "stream",
     "text": [
      "[autoreload of simulate failed: Traceback (most recent call last):\n",
      "  File \"C:\\Users\\User\\AppData\\Roaming\\Python\\Python312\\site-packages\\IPython\\extensions\\autoreload.py\", line 280, in check\n",
      "    elif self.deduper_reloader.maybe_reload_module(m):\n",
      "         ^^^^^^^^^^^^^^^^^^^^^^^^^^^^^^^^^^^^^^^^^^^^\n",
      "  File \"C:\\Users\\User\\AppData\\Roaming\\Python\\Python312\\site-packages\\IPython\\extensions\\deduperreload\\deduperreload.py\", line 533, in maybe_reload_module\n",
      "    new_source_code = f.read()\n",
      "                      ^^^^^^^^\n",
      "UnicodeDecodeError: 'cp949' codec can't decode byte 0xec in position 1768: illegal multibyte sequence\n",
      "]\n"
     ]
    }
   ],
   "source": [
    "# This code \"imports\" code from some of the other files we've written\n",
    "# in this directory. Specifically simulate.py and helpers.py\n",
    "import simulate as sim\n",
    "import helpers\n",
    "import localizer\n",
    "\n",
    "# Don't worry too much about this code for now...\n",
    "from __future__ import division, print_function\n",
    "%load_ext autoreload\n",
    "%autoreload 2"
   ]
  },
  {
   "cell_type": "code",
   "execution_count": 24,
   "metadata": {},
   "outputs": [
    {
     "data": {
      "image/png": "[encoded data removed]",
      "text/plain": [
       "<Figure size 640x480 with 1 Axes>"
      ]
     },
     "metadata": {},
     "output_type": "display_data"
    }
   ],
   "source": [
    "# This code defines a 5x5 robot world as well as some other parameters\n",
    "# which we will discuss later. It then creates a simulation and shows \n",
    "# the initial beliefs. \n",
    "R = 'r'\n",
    "G = 'g'\n",
    "grid = [\n",
    "    [R,G,G,G,R],\n",
    "    [G,G,R,G,R],\n",
    "    [G,R,G,G,G],\n",
    "    [R,R,G,R,G],\n",
    "    [R,G,R,G,R],\n",
    "]\n",
    "blur = 0.05\n",
    "p_hit = 200.0\n",
    "simulation = sim.Simulation(grid, blur, p_hit)\n",
    "simulation.show_beliefs()"
   ]
  },
  {
   "cell_type": "markdown",
   "metadata": {},
   "source": [
    "Run the code below multiple times by repeatedly pressing Ctrl + Enter.\n",
    "\n",
    "After each run observe how the state has changed. "
   ]
  },
  {
   "cell_type": "code",
   "execution_count": 25,
   "metadata": {},
   "outputs": [
    {
     "ename": "TypeError",
     "evalue": "list indices must be integers or slices, not float",
     "output_type": "error",
     "traceback": [
      "\u001b[31m---------------------------------------------------------------------------\u001b[39m",
      "\u001b[31mTypeError\u001b[39m                                 Traceback (most recent call last)",
      "\u001b[36mCell\u001b[39m\u001b[36m \u001b[39m\u001b[32mIn[25]\u001b[39m\u001b[32m, line 1\u001b[39m\n\u001b[32m----> \u001b[39m\u001b[32m1\u001b[39m \u001b[43msimulation\u001b[49m\u001b[43m.\u001b[49m\u001b[43mrun\u001b[49m\u001b[43m(\u001b[49m\u001b[32;43m1\u001b[39;49m\u001b[43m)\u001b[49m\n\u001b[32m      2\u001b[39m simulation.show_beliefs()\n",
      "\u001b[36mFile \u001b[39m\u001b[32mc:\\Users\\User\\Desktop\\UT-CARS\\5-localization-zzammin22\\simulate.py:103\u001b[39m, in \u001b[36mSimulation.run\u001b[39m\u001b[34m(self, num_steps)\u001b[39m\n\u001b[32m    101\u001b[39m \u001b[38;5;28;01mdef\u001b[39;00m\u001b[38;5;250m \u001b[39m\u001b[34mrun\u001b[39m(\u001b[38;5;28mself\u001b[39m, num_steps=\u001b[32m1\u001b[39m):\n\u001b[32m    102\u001b[39m \t\u001b[38;5;28;01mfor\u001b[39;00m i \u001b[38;5;129;01min\u001b[39;00m \u001b[38;5;28mrange\u001b[39m(num_steps):\n\u001b[32m--> \u001b[39m\u001b[32m103\u001b[39m \t\t\u001b[38;5;28;43mself\u001b[39;49m\u001b[43m.\u001b[49m\u001b[43msense\u001b[49m\u001b[43m(\u001b[49m\u001b[43m)\u001b[49m\n\u001b[32m    104\u001b[39m \t\tdy, dx = \u001b[38;5;28mself\u001b[39m.random_move()\n\u001b[32m    105\u001b[39m \t\t\u001b[38;5;28mself\u001b[39m.move(dy,dx)\n",
      "\u001b[36mFile \u001b[39m\u001b[32mc:\\Users\\User\\Desktop\\UT-CARS\\5-localization-zzammin22\\simulate.py:42\u001b[39m, in \u001b[36mSimulation.sense\u001b[39m\u001b[34m(self)\u001b[39m\n\u001b[32m     41\u001b[39m \u001b[38;5;28;01mdef\u001b[39;00m\u001b[38;5;250m \u001b[39m\u001b[34msense\u001b[39m(\u001b[38;5;28mself\u001b[39m):\n\u001b[32m---> \u001b[39m\u001b[32m42\u001b[39m \tcolor = \u001b[38;5;28;43mself\u001b[39;49m\u001b[43m.\u001b[49m\u001b[43mget_observed_color\u001b[49m\u001b[43m(\u001b[49m\u001b[43m)\u001b[49m\n\u001b[32m     43\u001b[39m \tbeliefs = deepcopy(\u001b[38;5;28mself\u001b[39m.beliefs)\n\u001b[32m     44\u001b[39m \tnew_beliefs = localizer.sense(color, \u001b[38;5;28mself\u001b[39m.grid, beliefs, \u001b[38;5;28mself\u001b[39m.p_hit, \u001b[38;5;28mself\u001b[39m.p_miss)\n",
      "\u001b[36mFile \u001b[39m\u001b[32mc:\\Users\\User\\Desktop\\UT-CARS\\5-localization-zzammin22\\simulate.py:63\u001b[39m, in \u001b[36mSimulation.get_observed_color\u001b[39m\u001b[34m(self)\u001b[39m\n\u001b[32m     61\u001b[39m \u001b[38;5;28;01mdef\u001b[39;00m\u001b[38;5;250m \u001b[39m\u001b[34mget_observed_color\u001b[39m(\u001b[38;5;28mself\u001b[39m):\n\u001b[32m     62\u001b[39m \ty,x = \u001b[38;5;28mself\u001b[39m.true_pose\n\u001b[32m---> \u001b[39m\u001b[32m63\u001b[39m \ttrue_color = \u001b[38;5;28;43mself\u001b[39;49m\u001b[43m.\u001b[49m\u001b[43mgrid\u001b[49m\u001b[43m[\u001b[49m\u001b[43my\u001b[49m\u001b[43m]\u001b[49m[x]\n\u001b[32m     64\u001b[39m \t\u001b[38;5;28;01mif\u001b[39;00m random.random() < \u001b[38;5;28mself\u001b[39m.incorrect_sense_probability:\n\u001b[32m     65\u001b[39m \t\tpossible_colors = []\n",
      "\u001b[31mTypeError\u001b[39m: list indices must be integers or slices, not float"
     ]
    }
   ],
   "source": [
    "simulation.run(1)\n",
    "simulation.show_beliefs()"
   ]
  },
  {
   "cell_type": "markdown",
   "metadata": {},
   "source": [
    "What do you think this call to `run` is doing? Look at the code in **`simulate.py`** to find out (remember - you can see other files in the current directory by clicking on the `jupyter` logo in the top left of this notebook).\n",
    "\n",
    "Spend a few minutes looking at the `run` method and the methods it calls to get a sense for what's going on.\n",
    "\n",
    "`run`에 대한 이 호출이 무엇을 한다고 생각하십니까? **`simulate.py`**의 코드를 살펴보세요(기억하세요 - 이 노트북의 왼쪽 상단에 있는 `jupyter` 로고를 클릭하면 현재 디렉토리의 다른 파일을 볼 수 있습니다).\n",
    "\n",
    "`run` 메서드와 호출하는 메서드를 몇 분 동안 살펴보면 무슨 일이 일어나고 있는지 알 수 있습니다."
   ]
  },
  {
   "cell_type": "markdown",
   "metadata": {},
   "source": [
    "#### What am I looking at?\n",
    "\n",
    "The red star shows the robot's true position. The blue circles indicate the strength of the robot's belief that it is at any particular location.\n",
    "\n",
    "Ideally we want the biggest blue circle to be at the same position as the red star.\n",
    "\n",
    "#### 내가 무엇을 보고 있는가?\n",
    "\n",
    "빨간 별은 로봇의 실제 위치를 보여줍니다. 파란 원은 로봇이 특정 위치에 있다는 믿음의 강도를 나타냅니다.\n",
    "\n",
    "이상적으로는 가장 큰 파란 원이 빨간 별과 같은 위치에 있기를 원합니다."
   ]
  },
  {
   "cell_type": "code",
   "execution_count": 26,
   "metadata": {},
   "outputs": [],
   "source": [
    "# We will provide you with the function below to help you look\n",
    "# at the raw numbers.\n",
    "\n",
    "def show_rounded_beliefs(beliefs):\n",
    "    for row in beliefs:\n",
    "        for belief in row:\n",
    "            print(\"{:0.3f}\".format(belief), end=\"  \")\n",
    "        print()\n",
    "        \n",
    "# The {:0.3f} notation is an example of \"string \n",
    "# formatting\" in Python. You can learn more about string \n",
    "# formatting at https://pyformat.info/"
   ]
  },
  {
   "cell_type": "code",
   "execution_count": 27,
   "metadata": {},
   "outputs": [
    {
     "name": "stdout",
     "output_type": "stream",
     "text": [
      "0.040  0.040  0.040  0.040  0.040  \n",
      "0.040  0.040  0.040  0.040  0.040  \n",
      "0.040  0.040  0.040  0.040  0.040  \n",
      "0.040  0.040  0.040  0.040  0.040  \n",
      "0.040  0.040  0.040  0.040  0.040  \n"
     ]
    }
   ],
   "source": [
    "show_rounded_beliefs(simulation.beliefs)"
   ]
  },
  {
   "cell_type": "markdown",
   "metadata": {},
   "source": [
    "_____"
   ]
  },
  {
   "cell_type": "markdown",
   "metadata": {},
   "source": [
    "## Part 2: Implement a 2D sense function.\n",
    "\n",
    "As you can see, the robot's beliefs aren't changing. No matter how many times we call the simulation's sense method, nothing happens. The beliefs remain uniform.\n",
    "\n",
    "## 2부: 2D 감지 함수 구현.\n",
    "\n",
    "보시다시피, 로봇의 믿음은 변하지 않습니다. 시뮬레이션의 감지 방법을 아무리 호출해도 아무 일도 일어나지 않습니다. 믿음은 균일하게 유지됩니다."
   ]
  },
  {
   "cell_type": "markdown",
   "metadata": {},
   "source": [
    "### Instructions\n",
    "\n",
    "1. Open `localizer.py` and complete the `sense` function.\n",
    "3. Run the code in the cell below to import the localizer module (or reload it) and then test your sense function.\n",
    "4. If the test passes, you've successfully implemented your first feature! Keep going with the project. If your tests don't pass (they likely won't the first few times you test), keep making modifications to the `sense` function until they do!\n",
    "\n",
    "### 지침\n",
    "\n",
    "1. `localizer.py`를 열고 `sense` 함수를 완성합니다.\n",
    "3. 아래 셀의 코드를 실행하여 localizer 모듈을 임포트(또는 다시 로드)한 다음 sense 함수를 테스트합니다.\n",
    "4. 테스트에 통과하면 첫 번째 기능을 성공적으로 구현한 것입니다! 프로젝트를 계속 진행합니다. 테스트에 통과하지 못하면(처음 몇 번 테스트할 때는 통과하지 못할 가능성이 높음) 통과할 때까지 `sense` 함수를 계속 수정합니다!"
   ]
  },
  {
   "cell_type": "code",
   "execution_count": 28,
   "metadata": {},
   "outputs": [
    {
     "ename": "NameError",
     "evalue": "name 'reload' is not defined",
     "output_type": "error",
     "traceback": [
      "\u001b[31m---------------------------------------------------------------------------\u001b[39m",
      "\u001b[31mNameError\u001b[39m                                 Traceback (most recent call last)",
      "\u001b[36mCell\u001b[39m\u001b[36m \u001b[39m\u001b[32mIn[28]\u001b[39m\u001b[32m, line 1\u001b[39m\n\u001b[32m----> \u001b[39m\u001b[32m1\u001b[39m \u001b[43mreload\u001b[49m(localizer)\n\u001b[32m      2\u001b[39m \u001b[38;5;28;01mdef\u001b[39;00m\u001b[38;5;250m \u001b[39m\u001b[34mtest_sense\u001b[39m():\n\u001b[32m      3\u001b[39m     R = \u001b[33m'\u001b[39m\u001b[33mr\u001b[39m\u001b[33m'\u001b[39m\n",
      "\u001b[31mNameError\u001b[39m: name 'reload' is not defined"
     ]
    }
   ],
   "source": [
    "reload(localizer)\n",
    "def test_sense():\n",
    "    R = 'r'\n",
    "    _ = 'g'\n",
    "\n",
    "    simple_grid = [\n",
    "        [_,_,_],\n",
    "        [_,R,_],\n",
    "        [_,_,_]\n",
    "    ]\n",
    "\n",
    "    p = 1.0 / 9\n",
    "    initial_beliefs = [\n",
    "        [p,p,p],\n",
    "        [p,p,p],\n",
    "        [p,p,p]\n",
    "    ]\n",
    "\n",
    "    observation = R\n",
    "\n",
    "    expected_beliefs_after = [\n",
    "        [1/11, 1/11, 1/11],\n",
    "        [1/11, 3/11, 1/11],\n",
    "        [1/11, 1/11, 1/11]\n",
    "    ]\n",
    "\n",
    "    p_hit  = 3.0\n",
    "    p_miss = 1.0\n",
    "    beliefs_after_sensing = localizer.sense(\n",
    "        observation, simple_grid, initial_beliefs, p_hit, p_miss)\n",
    "\n",
    "    if helpers.close_enough(beliefs_after_sensing, expected_beliefs_after):\n",
    "        print(\"Tests pass! Your sense function is working as expected\")\n",
    "        return\n",
    "    \n",
    "    elif not isinstance(beliefs_after_sensing, list):\n",
    "        print(\"Your sense function doesn't return a list!\")\n",
    "        return\n",
    "        \n",
    "    elif len(beliefs_after_sensing) != len(expected_beliefs_after):\n",
    "        print(\"Dimensionality error! Incorrect height\")\n",
    "        return\n",
    "              \n",
    "    elif len(beliefs_after_sensing[0] ) != len(expected_beliefs_after[0]):\n",
    "        print(\"Dimensionality Error! Incorrect width\")\n",
    "        return\n",
    "    \n",
    "    elif beliefs_after_sensing == initial_beliefs:\n",
    "        print(\"Your code returns the initial beliefs.\")\n",
    "        return\n",
    "        \n",
    "    total_probability = 0.0\n",
    "    for row in beliefs_after_sensing:\n",
    "        for p in row:\n",
    "            total_probability += p\n",
    "    if abs(total_probability-1.0) > 0.001:\n",
    "        \n",
    "        print(\"Your beliefs appear to not be normalized\")\n",
    "        return\n",
    "    \n",
    "    print(\"Something isn't quite right with your sense function\")\n",
    "\n",
    "test_sense()"
   ]
  },
  {
   "cell_type": "markdown",
   "metadata": {},
   "source": [
    "## Integration Testing\n",
    "\n",
    "Before we call this \"complete\" we should perform an **integration test**. We've verified that the sense function works on it's own, but does the localizer work overall?\n",
    "\n",
    "Let's perform an integration test. First you you should execute the code in the cell below to prepare the simulation environment.\n",
    "\n",
    "## 통합 테스트\n",
    "\n",
    "이것을 \"완료\"라고 부르기 전에 **통합 테스트**를 수행해야 합니다. 감지 기능이 자체적으로 작동하는지 확인했지만 로컬라이저는 전반적으로 작동합니까?\n",
    "\n",
    "통합 테스트를 수행해 보겠습니다. 먼저 아래 셀의 코드를 실행하여 시뮬레이션 환경을 준비해야 합니다."
   ]
  },
  {
   "cell_type": "code",
   "execution_count": 29,
   "metadata": {},
   "outputs": [
    {
     "ename": "NameError",
     "evalue": "name 'reload' is not defined",
     "output_type": "error",
     "traceback": [
      "\u001b[31m---------------------------------------------------------------------------\u001b[39m",
      "\u001b[31mNameError\u001b[39m                                 Traceback (most recent call last)",
      "\u001b[36mCell\u001b[39m\u001b[36m \u001b[39m\u001b[32mIn[29]\u001b[39m\u001b[32m, line 4\u001b[39m\n\u001b[32m      2\u001b[39m \u001b[38;5;28;01mimport\u001b[39;00m\u001b[38;5;250m \u001b[39m\u001b[34;01msimulate\u001b[39;00m\u001b[38;5;250m \u001b[39m\u001b[38;5;28;01mas\u001b[39;00m\u001b[38;5;250m \u001b[39m\u001b[34;01msim\u001b[39;00m\n\u001b[32m      3\u001b[39m \u001b[38;5;28;01mimport\u001b[39;00m\u001b[38;5;250m \u001b[39m\u001b[34;01mhelpers\u001b[39;00m\n\u001b[32m----> \u001b[39m\u001b[32m4\u001b[39m \u001b[43mreload\u001b[49m(localizer)\n\u001b[32m      5\u001b[39m reload(sim)\n\u001b[32m      6\u001b[39m reload(helpers)\n",
      "\u001b[31mNameError\u001b[39m: name 'reload' is not defined"
     ]
    }
   ],
   "source": [
    "from simulate import Simulation\n",
    "import simulate as sim\n",
    "import helpers\n",
    "reload(localizer)\n",
    "reload(sim)\n",
    "reload(helpers)\n",
    "\n",
    "R = 'r'\n",
    "G = 'g'\n",
    "grid = [\n",
    "    [R,G,G,G,R,R,R],\n",
    "    [G,G,R,G,R,G,R],\n",
    "    [G,R,G,G,G,G,R],\n",
    "    [R,R,G,R,G,G,G],\n",
    "    [R,G,R,G,R,R,R],\n",
    "    [G,R,R,R,G,R,G],\n",
    "    [R,R,R,G,R,G,G],\n",
    "]\n",
    "\n",
    "# Use small value for blur. This parameter is used to represent\n",
    "# the uncertainty in MOTION, not in sensing. We want this test\n",
    "# to focus on sensing functionality\n",
    "\n",
    "# 흐림에 작은 값을 사용합니다. 이 매개변수는 감지가 아닌\n",
    "# 모션의 불확실성을 나타내는 데 사용됩니다. 우리는 이 테스트가\n",
    "# 감지 기능에 초점을 맞추기를 원합니다.\n",
    "blur = 0.1\n",
    "p_hit = 100.0\n",
    "simulation = sim.Simulation(grid, blur, p_hit)"
   ]
  },
  {
   "cell_type": "code",
   "execution_count": 30,
   "metadata": {},
   "outputs": [
    {
     "ename": "TypeError",
     "evalue": "list indices must be integers or slices, not float",
     "output_type": "error",
     "traceback": [
      "\u001b[31m---------------------------------------------------------------------------\u001b[39m",
      "\u001b[31mTypeError\u001b[39m                                 Traceback (most recent call last)",
      "\u001b[36mCell\u001b[39m\u001b[36m \u001b[39m\u001b[32mIn[30]\u001b[39m\u001b[32m, line 14\u001b[39m\n\u001b[32m      1\u001b[39m \u001b[38;5;66;03m# Use control+Enter to run this cell many times and observe how \u001b[39;00m\n\u001b[32m      2\u001b[39m \u001b[38;5;66;03m# the robot's belief that it is in each cell (represented by the\u001b[39;00m\n\u001b[32m      3\u001b[39m \u001b[38;5;66;03m# size of the corresponding circle) changes as the robot moves.\u001b[39;00m\n\u001b[32m   (...)\u001b[39m\u001b[32m     11\u001b[39m \n\u001b[32m     12\u001b[39m \u001b[38;5;66;03m# 이 셀을 약 15-25회 실행하고 결과를 관찰합니다.\u001b[39;00m\n\u001b[32m---> \u001b[39m\u001b[32m14\u001b[39m \u001b[43msimulation\u001b[49m\u001b[43m.\u001b[49m\u001b[43mrun\u001b[49m\u001b[43m(\u001b[49m\u001b[32;43m1\u001b[39;49m\u001b[43m)\u001b[49m\n\u001b[32m     15\u001b[39m simulation.show_beliefs()\n\u001b[32m     17\u001b[39m \u001b[38;5;66;03m# If everything is working correctly you should see the beliefs\u001b[39;00m\n\u001b[32m     18\u001b[39m \u001b[38;5;66;03m# converge to a single large circle at the same position as the \u001b[39;00m\n\u001b[32m     19\u001b[39m \u001b[38;5;66;03m# red star. Though, if your sense function is implemented correctly\u001b[39;00m\n\u001b[32m   (...)\u001b[39m\u001b[32m     30\u001b[39m \u001b[38;5;66;03m# 모든 것이 제대로 작동한다고 만족하면\u001b[39;00m\n\u001b[32m     31\u001b[39m \u001b[38;5;66;03m# 다음 섹션으로 계속 진행하세요.\u001b[39;00m\n",
      "\u001b[36mFile \u001b[39m\u001b[32mc:\\Users\\User\\Desktop\\UT-CARS\\5-localization-zzammin22\\simulate.py:103\u001b[39m, in \u001b[36mSimulation.run\u001b[39m\u001b[34m(self, num_steps)\u001b[39m\n\u001b[32m    101\u001b[39m \u001b[38;5;28;01mdef\u001b[39;00m\u001b[38;5;250m \u001b[39m\u001b[34mrun\u001b[39m(\u001b[38;5;28mself\u001b[39m, num_steps=\u001b[32m1\u001b[39m):\n\u001b[32m    102\u001b[39m \t\u001b[38;5;28;01mfor\u001b[39;00m i \u001b[38;5;129;01min\u001b[39;00m \u001b[38;5;28mrange\u001b[39m(num_steps):\n\u001b[32m--> \u001b[39m\u001b[32m103\u001b[39m \t\t\u001b[38;5;28;43mself\u001b[39;49m\u001b[43m.\u001b[49m\u001b[43msense\u001b[49m\u001b[43m(\u001b[49m\u001b[43m)\u001b[49m\n\u001b[32m    104\u001b[39m \t\tdy, dx = \u001b[38;5;28mself\u001b[39m.random_move()\n\u001b[32m    105\u001b[39m \t\t\u001b[38;5;28mself\u001b[39m.move(dy,dx)\n",
      "\u001b[36mFile \u001b[39m\u001b[32mc:\\Users\\User\\Desktop\\UT-CARS\\5-localization-zzammin22\\simulate.py:42\u001b[39m, in \u001b[36mSimulation.sense\u001b[39m\u001b[34m(self)\u001b[39m\n\u001b[32m     41\u001b[39m \u001b[38;5;28;01mdef\u001b[39;00m\u001b[38;5;250m \u001b[39m\u001b[34msense\u001b[39m(\u001b[38;5;28mself\u001b[39m):\n\u001b[32m---> \u001b[39m\u001b[32m42\u001b[39m \tcolor = \u001b[38;5;28;43mself\u001b[39;49m\u001b[43m.\u001b[49m\u001b[43mget_observed_color\u001b[49m\u001b[43m(\u001b[49m\u001b[43m)\u001b[49m\n\u001b[32m     43\u001b[39m \tbeliefs = deepcopy(\u001b[38;5;28mself\u001b[39m.beliefs)\n\u001b[32m     44\u001b[39m \tnew_beliefs = localizer.sense(color, \u001b[38;5;28mself\u001b[39m.grid, beliefs, \u001b[38;5;28mself\u001b[39m.p_hit, \u001b[38;5;28mself\u001b[39m.p_miss)\n",
      "\u001b[36mFile \u001b[39m\u001b[32mc:\\Users\\User\\Desktop\\UT-CARS\\5-localization-zzammin22\\simulate.py:63\u001b[39m, in \u001b[36mSimulation.get_observed_color\u001b[39m\u001b[34m(self)\u001b[39m\n\u001b[32m     61\u001b[39m \u001b[38;5;28;01mdef\u001b[39;00m\u001b[38;5;250m \u001b[39m\u001b[34mget_observed_color\u001b[39m(\u001b[38;5;28mself\u001b[39m):\n\u001b[32m     62\u001b[39m \ty,x = \u001b[38;5;28mself\u001b[39m.true_pose\n\u001b[32m---> \u001b[39m\u001b[32m63\u001b[39m \ttrue_color = \u001b[38;5;28;43mself\u001b[39;49m\u001b[43m.\u001b[49m\u001b[43mgrid\u001b[49m\u001b[43m[\u001b[49m\u001b[43my\u001b[49m\u001b[43m]\u001b[49m[x]\n\u001b[32m     64\u001b[39m \t\u001b[38;5;28;01mif\u001b[39;00m random.random() < \u001b[38;5;28mself\u001b[39m.incorrect_sense_probability:\n\u001b[32m     65\u001b[39m \t\tpossible_colors = []\n",
      "\u001b[31mTypeError\u001b[39m: list indices must be integers or slices, not float"
     ]
    }
   ],
   "source": [
    "# Use control+Enter to run this cell many times and observe how \n",
    "# the robot's belief that it is in each cell (represented by the\n",
    "# size of the corresponding circle) changes as the robot moves.\n",
    "# The true position of the robot is given by the red star.\n",
    "\n",
    "# Run this cell about 15-25 times and observe the results\n",
    "\n",
    "# control+Enter를 사용하여 이 셀을 여러 번 실행하고\n",
    "# 로봇이 각 셀에 있다는 믿음(해당 원의 크기로 표시)이 로봇이 움직일 때 어떻게 바뀌는지 관찰합니다.\n",
    "# 로봇의 실제 위치는 빨간색 별로 표시됩니다.\n",
    "\n",
    "# 이 셀을 약 15-25회 실행하고 결과를 관찰합니다.\n",
    "\n",
    "simulation.run(1)\n",
    "simulation.show_beliefs()\n",
    "\n",
    "# If everything is working correctly you should see the beliefs\n",
    "# converge to a single large circle at the same position as the \n",
    "# red star. Though, if your sense function is implemented correctly\n",
    "# and this output is not converging as expected.. it may have to do\n",
    "# with the `move` function bug; your next task!\n",
    "#\n",
    "# When you are satisfied that everything is working, continue\n",
    "# to the next section\n",
    "\n",
    "# 모든 것이 제대로 작동하면 신념이\n",
    "# 빨간 별과 같은 위치에 있는 하나의 큰 원으로 수렴하는 것을 볼 수 있습니다. 하지만 감지 기능이 올바르게 구현되었고\n",
    "# 이 출력이 예상대로 수렴하지 않는 경우.. `move` 함수 버그와 관련이 있을 수 있습니다. 다음 작업입니다!\n",
    "#\n",
    "# 모든 것이 제대로 작동한다고 만족하면\n",
    "# 다음 섹션으로 계속 진행하세요."
   ]
  },
  {
   "cell_type": "markdown",
   "metadata": {},
   "source": [
    "## Part 3: Identify and Reproduce a Bug\n",
    "\n",
    "Software has bugs. That's okay.\n",
    "\n",
    "A user of your robot called tech support with a complaint\n",
    "\n",
    "> \"So I was using your robot in a square room and everything was fine. Then I tried loading in a map for a rectangular room and it drove around for a couple seconds and then suddenly stopped working. Fix it!\"\n",
    "\n",
    "Now we have to debug. We are going to use a systematic approach.\n",
    "\n",
    "1. Reproduce the bug\n",
    "2. Read (and understand) the error message (when one exists)\n",
    "3. Write a test that triggers the bug.\n",
    "4. Generate a hypothesis for the cause of the bug.\n",
    "5. Try a solution. If it fixes the bug, great! If not, go back to step 4.\n",
    "\n",
    "## 3부: 버그 식별 및 재현\n",
    "\n",
    "소프트웨어에는 버그가 있습니다. 괜찮습니다.\n",
    "\n",
    "로봇 사용자가 기술 지원에 전화하여 불만을 제기했습니다.\n",
    "\n",
    "> \"그래서 저는 정사각형 방에서 로봇을 사용했는데 모든 것이 괜찮았습니다. 그런 다음 직사각형 방의 지도를 로드하려고 했는데 몇 초 동안 돌아다닌 다음 갑자기 작동이 멈췄습니다. 고쳐주세요!\"\n",
    "\n",
    "이제 디버깅을 해야 합니다. 체계적인 접근 방식을 사용할 것입니다.\n",
    "\n",
    "1. 버그 재현\n",
    "2. 오류 메시지(있는 경우)를 읽고 이해\n",
    "3. 버그를 트리거하는 테스트를 작성합니다.\n",
    "4. 버그 원인에 대한 가설을 생성합니다.\n",
    "5. 솔루션을 시도합니다. 버그가 해결되면 좋습니다! 그렇지 않으면 4단계로 돌아갑니다."
   ]
  },
  {
   "cell_type": "markdown",
   "metadata": {},
   "source": [
    "### Step 1: Reproduce the bug\n",
    "\n",
    "The user said that **rectangular environments** seem to be causing the bug. \n",
    "\n",
    "The code below is the same as the code you were working with when you were doing integration testing of your new feature. See if you can modify it to reproduce the bug.\n",
    "\n",
    "### 1단계: 버그 재현\n",
    "\n",
    "사용자는 **직사각형 환경**이 버그를 일으키는 것 같다고 말했습니다.\n",
    "\n",
    "아래 코드는 새 기능의 통합 테스트를 수행할 때 작업했던 코드와 동일합니다. 버그를 재현하도록 수정할 수 있는지 확인하세요."
   ]
  },
  {
   "cell_type": "code",
   "execution_count": 32,
   "metadata": {},
   "outputs": [
    {
     "ename": "IndexError",
     "evalue": "list index out of range",
     "output_type": "error",
     "traceback": [
      "\u001b[0;31m\u001b[0m",
      "\u001b[0;31mIndexError\u001b[0mTraceback (most recent call last)",
      "\u001b[0;32m<ipython-input-32-505b0031fba1>\u001b[0m in \u001b[0;36m<module>\u001b[0;34m()\u001b[0m\n\u001b[1;32m     22\u001b[0m \u001b[0;31m# remember, the user said that the robot would sometimes drive around for a bit...\u001b[0m\u001b[0;34m\u001b[0m\u001b[0;34m\u001b[0m\u001b[0m\n\u001b[1;32m     23\u001b[0m \u001b[0;31m# It may take several calls to \"simulation.run\" to actually trigger the bug.\u001b[0m\u001b[0;34m\u001b[0m\u001b[0;34m\u001b[0m\u001b[0m\n\u001b[0;32m---> 24\u001b[0;31m \u001b[0msimulation\u001b[0m\u001b[0;34m.\u001b[0m\u001b[0mrun\u001b[0m\u001b[0;34m(\u001b[0m\u001b[0;36m1\u001b[0m\u001b[0;34m)\u001b[0m\u001b[0;34m\u001b[0m\u001b[0m\n\u001b[0m\u001b[1;32m     25\u001b[0m \u001b[0msimulation\u001b[0m\u001b[0;34m.\u001b[0m\u001b[0mshow_beliefs\u001b[0m\u001b[0;34m(\u001b[0m\u001b[0;34m)\u001b[0m\u001b[0;34m\u001b[0m\u001b[0m\n",
      "\u001b[0;32m/workspace/home/simulate.pyc\u001b[0m in \u001b[0;36mrun\u001b[0;34m(self, num_steps)\u001b[0m\n\u001b[1;32m    103\u001b[0m                         \u001b[0mself\u001b[0m\u001b[0;34m.\u001b[0m\u001b[0msense\u001b[0m\u001b[0;34m(\u001b[0m\u001b[0;34m)\u001b[0m\u001b[0;34m\u001b[0m\u001b[0m\n\u001b[1;32m    104\u001b[0m                         \u001b[0mdy\u001b[0m\u001b[0;34m,\u001b[0m \u001b[0mdx\u001b[0m \u001b[0;34m=\u001b[0m \u001b[0mself\u001b[0m\u001b[0;34m.\u001b[0m\u001b[0mrandom_move\u001b[0m\u001b[0;34m(\u001b[0m\u001b[0;34m)\u001b[0m\u001b[0;34m\u001b[0m\u001b[0m\n\u001b[0;32m--> 105\u001b[0;31m                         \u001b[0mself\u001b[0m\u001b[0;34m.\u001b[0m\u001b[0mmove\u001b[0m\u001b[0;34m(\u001b[0m\u001b[0mdy\u001b[0m\u001b[0;34m,\u001b[0m\u001b[0mdx\u001b[0m\u001b[0;34m)\u001b[0m\u001b[0;34m\u001b[0m\u001b[0m\n\u001b[0m",
      "\u001b[0;32m/workspace/home/simulate.pyc\u001b[0m in \u001b[0;36mmove\u001b[0;34m(self, dy, dx)\u001b[0m\n\u001b[1;32m     55\u001b[0m                 \u001b[0mself\u001b[0m\u001b[0;34m.\u001b[0m\u001b[0mtrue_pose\u001b[0m \u001b[0;34m=\u001b[0m \u001b[0;34m(\u001b[0m\u001b[0mnew_y\u001b[0m\u001b[0;34m,\u001b[0m \u001b[0mnew_x\u001b[0m\u001b[0;34m)\u001b[0m\u001b[0;34m\u001b[0m\u001b[0m\n\u001b[1;32m     56\u001b[0m                 \u001b[0mbeliefs\u001b[0m \u001b[0;34m=\u001b[0m \u001b[0mdeepcopy\u001b[0m\u001b[0;34m(\u001b[0m\u001b[0mself\u001b[0m\u001b[0;34m.\u001b[0m\u001b[0mbeliefs\u001b[0m\u001b[0;34m)\u001b[0m\u001b[0;34m\u001b[0m\u001b[0m\n\u001b[0;32m---> 57\u001b[0;31m                 \u001b[0mnew_beliefs\u001b[0m \u001b[0;34m=\u001b[0m \u001b[0mlocalizer\u001b[0m\u001b[0;34m.\u001b[0m\u001b[0mmove\u001b[0m\u001b[0;34m(\u001b[0m\u001b[0mdy\u001b[0m\u001b[0;34m,\u001b[0m \u001b[0mdx\u001b[0m\u001b[0;34m,\u001b[0m \u001b[0mbeliefs\u001b[0m\u001b[0;34m,\u001b[0m \u001b[0mself\u001b[0m\u001b[0;34m.\u001b[0m\u001b[0mblur\u001b[0m\u001b[0;34m)\u001b[0m\u001b[0;34m\u001b[0m\u001b[0m\n\u001b[0m\u001b[1;32m     58\u001b[0m                 \u001b[0mself\u001b[0m\u001b[0;34m.\u001b[0m\u001b[0mbeliefs\u001b[0m \u001b[0;34m=\u001b[0m \u001b[0mnew_beliefs\u001b[0m\u001b[0;34m\u001b[0m\u001b[0m\n\u001b[1;32m     59\u001b[0m \u001b[0;34m\u001b[0m\u001b[0m\n",
      "\u001b[0;32m/workspace/home/localizer.pyc\u001b[0m in \u001b[0;36mmove\u001b[0;34m(dy, dx, beliefs, blurring)\u001b[0m\n\u001b[1;32m     46\u001b[0m             \u001b[0mnew_j\u001b[0m \u001b[0;34m=\u001b[0m \u001b[0;34m(\u001b[0m\u001b[0mj\u001b[0m \u001b[0;34m+\u001b[0m \u001b[0mdx\u001b[0m \u001b[0;34m)\u001b[0m \u001b[0;34m%\u001b[0m \u001b[0mheight\u001b[0m\u001b[0;34m\u001b[0m\u001b[0m\n\u001b[1;32m     47\u001b[0m             \u001b[0;31m# pdb.set_trace()\u001b[0m\u001b[0;34m\u001b[0m\u001b[0;34m\u001b[0m\u001b[0m\n\u001b[0;32m---> 48\u001b[0;31m             \u001b[0mnew_G\u001b[0m\u001b[0;34m[\u001b[0m\u001b[0mint\u001b[0m\u001b[0;34m(\u001b[0m\u001b[0mnew_i\u001b[0m\u001b[0;34m)\u001b[0m\u001b[0;34m]\u001b[0m\u001b[0;34m[\u001b[0m\u001b[0mint\u001b[0m\u001b[0;34m(\u001b[0m\u001b[0mnew_j\u001b[0m\u001b[0;34m)\u001b[0m\u001b[0;34m]\u001b[0m \u001b[0;34m=\u001b[0m \u001b[0mcell\u001b[0m\u001b[0;34m\u001b[0m\u001b[0m\n\u001b[0m\u001b[1;32m     49\u001b[0m     \u001b[0;32mreturn\u001b[0m \u001b[0mblur\u001b[0m\u001b[0;34m(\u001b[0m\u001b[0mnew_G\u001b[0m\u001b[0;34m,\u001b[0m \u001b[0mblurring\u001b[0m\u001b[0;34m)\u001b[0m\u001b[0;34m\u001b[0m\u001b[0m\n",
      "\u001b[0;31mIndexError\u001b[0m: list index out of range"
     ]
    }
   ],
   "source": [
    "from simulate import Simulation\n",
    "import simulate as sim\n",
    "import helpers\n",
    "reload(localizer)\n",
    "reload(sim)\n",
    "reload(helpers)\n",
    "\n",
    "R = 'r'\n",
    "G = 'g'\n",
    "\n",
    "grid = [ \n",
    "    [R,G,G,G,R,R,R],\n",
    "    [G,G,R,G,R,G,R],\n",
    "    [G,R,G,G,G,G,R],\n",
    "    [R,R,G,R,G,G,G],\n",
    "]\n",
    "\n",
    "blur = 0.001\n",
    "p_hit = 100.0\n",
    "simulation = sim.Simulation(grid, blur, p_hit)\n",
    "\n",
    "# remember, the user said that the robot would sometimes drive around for a bit...\n",
    "# It may take several calls to \"simulation.run\" to actually trigger the bug.\n",
    "simulation.run(1)\n",
    "simulation.show_beliefs()"
   ]
  },
  {
   "cell_type": "code",
   "execution_count": null,
   "metadata": {
    "collapsed": true
   },
   "outputs": [],
   "source": [
    "simulation.run(1)"
   ]
  },
  {
   "cell_type": "markdown",
   "metadata": {},
   "source": [
    "### Step 2: Read and Understand the error message\n",
    "\n",
    "If you triggered the bug, you should see an error message directly above this cell. The end of that message should say:\n",
    "\n",
    "```\n",
    "IndexError: list index out of range\n",
    "```\n",
    "\n",
    "And just above that you should see something like\n",
    "\n",
    "```\n",
    "path/to/your/directory/localizer.pyc in move(dy, dx, beliefs, blurring)\n",
    "     38             new_i = (i + dy ) % width\n",
    "     39             new_j = (j + dx ) % height\n",
    "---> 40             new_G[int(new_i)][int(new_j)] = cell\n",
    "     41     return blur(new_G, blurring)\n",
    "```\n",
    "\n",
    "This tells us that line 40 (in the move function) is causing an `IndexError` because \"list index out of range\".\n",
    "\n",
    "If you aren't sure what this means, use Google! \n",
    "\n",
    "Copy and paste `IndexError: list index out of range` into Google! When I do that, I see something like this:\n",
    "\n",
    "![Search Results](http://i.imgur.com/gleBmBy.png)\n",
    "\n",
    "Browse through the top links (often these will come from stack overflow) and read what people have said about this error until you are satisfied you understand how it's caused.\n",
    "\n",
    "### 2단계: 오류 메시지 읽기 및 이해\n",
    "버그를 트리거한 경우 이 셀 바로 위에 오류 메시지가 표시되어야 합니다. 해당 메시지의 끝은 다음과 같아야 합니다.\n",
    "\n",
    "```\n",
    "IndexError: list index out of range\n",
    "```\n",
    "\n",
    "바로 그 위에 다음과 같은 메시지가 표시되어야 합니다.\n",
    "\n",
    "```\n",
    "path/to/your/directory/localizer.pyc in move(dy, dx, beliefs, blurring)\n",
    "38 new_i = (i + dy ) % width\n",
    "39 new_j = (j + dx ) % height\n",
    "---> 40 new_G[int(new_i)][int(new_j)] = cell\n",
    "41 return blur(new_G, blurring)\n",
    "```\n",
    "\n",
    "이것은 \"list index out of range\"로 인해 40번째 줄(move 함수)이 `IndexError`를 발생시키고 있음을 알려줍니다.\n",
    "\n",
    "무슨 뜻인지 잘 모르겠다면 Google을 사용하세요!\n",
    "\n",
    "`IndexError: list index out of range`를 Google에 복사하여 붙여넣으세요! 그렇게 하면 다음과 같은 내용이 표시됩니다.\n",
    "\n",
    "![검색 결과](http://i.imgur.com/gleBmBy.png)\n",
    "\n",
    "상단 링크를 탐색하고(종종 스택 오버플로에서 나옵니다) 이 오류에 대해 사람들이 말한 내용을 읽어서 오류가 어떻게 발생했는지 이해할 때까지 읽어보세요."
   ]
  },
  {
   "cell_type": "markdown",
   "metadata": {},
   "source": [
    "### Step 3: Write a test that reproduces the bug\n",
    "\n",
    "This will help you know when you've fixed it and help you make sure you never reintroduce it in the future. You might have to try many potential solutions, so it will be nice to have a single function to call to confirm whether or not the bug is fixed\n",
    "\n",
    "### 3단계: 버그를 재현하는 테스트 작성\n",
    "\n",
    "이렇게 하면 버그를 수정한 시점을 알 수 있고, 앞으로 다시는 버그를 도입하지 않도록 하는 데 도움이 됩니다. 여러 가지 잠재적 해결책을 시도해야 할 수도 있으므로 버그가 수정되었는지 확인하기 위해 호출할 단일 함수가 있으면 좋을 것입니다."
   ]
  },
  {
   "cell_type": "code",
   "execution_count": null,
   "metadata": {
    "collapsed": true
   },
   "outputs": [],
   "source": [
    "# According to the user, sometimes the robot actually does run \"for a while\" \n",
    "# - How can you change the code so the robot runs \"for a while\"?\n",
    "# - How many times do you need to call simulation.run() to consistently\n",
    "#   reproduce the bug?\n",
    "# Modify the code below so that when the function is called \n",
    "# it consistently reproduces the bug.\n",
    "\n",
    "# 사용자에 따르면, 로봇이 실제로 \"잠시 동안\" 실행되는 경우가 있습니다.\n",
    "# - 로봇이 \"잠시 동안\" 실행되도록 코드를 어떻게 변경할 수 있습니까?\n",
    "# - 버그를 일관되게 재현하려면 몇 번이나 simulation.run()을 호출해야 합니까?\n",
    "# 아래 코드를 수정하여 함수가 호출될 때\n",
    "# 버그를 일관되게 재현합니다.\n",
    "def test_robot_works_in_rectangle_world():\n",
    "    from simulate import Simulation\n",
    "    import simulate as sim\n",
    "    import helpers\n",
    "    reload(localizer)\n",
    "    reload(sim)\n",
    "    reload(helpers)\n",
    "\n",
    "    R = 'r'\n",
    "    G = 'g'\n",
    "\n",
    "    grid = [ \n",
    "        [R,G,G,G,R,R,R],\n",
    "        [G,G,R,G,R,G,R],\n",
    "        [G,R,G,G,G,G,R],\n",
    "        [R,R,G,R,G,G,G],\n",
    "    ]\n",
    "\n",
    "    blur = 0.001\n",
    "    p_hit = 100.0\n",
    "    for i in range(1000):\n",
    "        simulation = sim.Simulation(grid, blur, p_hit)\n",
    "        simulation.run(1)\n",
    "    \n",
    "test_robot_works_in_rectangle_world()"
   ]
  },
  {
   "cell_type": "markdown",
   "metadata": {},
   "source": [
    "### Step 4: Generate a Hypothesis\n",
    "\n",
    "In order to have a guess about what's causing the problem, it will be helpful to use some Python debuggin tools\n",
    "\n",
    "The `pdb` module (`p`ython `d`e`b`ugger) will be helpful here!\n",
    "\n",
    "#### Setting up the debugger \n",
    "\n",
    "1. Open `localizer.py` and uncomment the line to the top that says `import pdb`\n",
    "2. Just before the line of code that is causing the bug `new_G[int(new_i)][int(new_j)] = cell`, add a new line of code that says `pdb.set_trace()`\n",
    "3. Run your test by calling your test function (run the cell below this one)\n",
    "4. You should see a text entry box pop up! For now, type `c` into the box and hit enter to **c**ontinue program execution. Keep typing `c` and enter until the bug is triggered again\n",
    "\n",
    "### 4단계: 가설 생성\n",
    "\n",
    "문제의 원인을 추측하려면 Python 디버깅 도구를 사용하면 도움이 됩니다.\n",
    "\n",
    "`pdb` 모듈(`p`ython `d`e`b`ugger)이 여기서 도움이 됩니다!\n",
    "\n",
    "#### 디버거 설정\n",
    "\n",
    "1. `localizer.py`를 열고 `import pdb`라고 쓰여진 맨 위의 줄의 주석 처리를 제거합니다.\n",
    "2. 버그를 일으키는 코드 줄 `new_G[int(new_i)][int(new_j)] = cell` 바로 앞에 `pdb.set_trace()`라고 쓰여진 새 코드 줄을 추가합니다.\n",
    "3. 테스트 함수를 호출하여 테스트를 실행합니다(이 셀 아래의 셀을 실행합니다)\n",
    "4. 텍스트 입력 상자가 나타납니다! 지금은 상자에 `c`를 입력하고 Enter 키를 눌러 프로그램 실행을 **c**계속합니다. 버그가 다시 발생할 때까지 `c`를 계속 입력하고 Enter 키를 누릅니다."
   ]
  },
  {
   "cell_type": "code",
   "execution_count": null,
   "metadata": {
    "collapsed": true
   },
   "outputs": [],
   "source": [
    "test_robot_works_in_rectangle_world()"
   ]
  },
  {
   "cell_type": "markdown",
   "metadata": {},
   "source": [
    "#### Using the debugger\n",
    "\n",
    "The debugger works by pausing program execution wherever you write `pdb.set_trace()` in your code. You also have access to any variables which are accessible from that point in your code. \n",
    "\n",
    "Try running your test again. This time, when the text entry box shows up, type `new_i` and hit enter. You will see the value of the `new_i` variable show up in the debugger window. Play around with the debugger: find the values of `new_j`, `height`, and `width`. Do they seem reasonable / correct?\n",
    "\n",
    "When you are done playing around, type `c` to continue program execution. Was the bug triggered? Keep playing until you have a guess about what is causing the bug.\n",
    "\n",
    "#### 디버거 사용\n",
    "\n",
    "디버거는 코드에 `pdb.set_trace()`를 쓸 때마다 프로그램 실행을 일시 중지하여 작동합니다. 또한 코드의 해당 지점에서 액세스할 수 있는 모든 변수에 액세스할 수 있습니다.\n",
    "\n",
    "테스트를 다시 실행해 보세요. 이번에는 텍스트 입력 상자가 나타나면 `new_i`를 입력하고 Enter를 누릅니다. 디버거 창에 `new_i` 변수의 값이 표시됩니다. 디버거를 가지고 놀아보세요. `new_j`, `height`, `width`의 값을 찾으세요. 이 값들이 합리적이거나 정확해 보입니까?\n",
    "\n",
    "놀아보는 것을 마치면 `c`를 입력하여 프로그램 실행을 계속합니다. 버그가 트리거되었습니까? 버그의 원인을 추측할 때까지 계속 플레이하세요."
   ]
  },
  {
   "cell_type": "markdown",
   "metadata": {},
   "source": [
    "### Step 5: Write a Fix\n",
    "\n",
    "You have a hypothesis about what's wrong. Now try to fix it. When you're done you should call your test function again. You may want to remove (or comment out) the line you added to `localizer.py` that says `pdb.set_trace()` so your test can run without you having to type `c` into the debugger box.\n",
    "\n",
    "### 5단계: 수정 사항 작성\n",
    "\n",
    "문제가 무엇인지에 대한 가설이 있습니다. 이제 수정을 시도해 보세요. 완료되면 테스트 함수를 다시 호출해야 합니다. `localizer.py`에 추가한 `pdb.set_trace()`라는 줄을 제거(또는 주석 처리)하여 디버거 상자에 `c`를 입력하지 않고도 테스트를 실행할 수 있도록 할 수 있습니다."
   ]
  },
  {
   "cell_type": "code",
   "execution_count": null,
   "metadata": {
    "collapsed": true
   },
   "outputs": [],
   "source": [
    "test_robot_works_in_rectangle_world()"
   ]
  },
  {
   "cell_type": "markdown",
   "metadata": {},
   "source": [
    "## Congratulations!\n",
    "\n",
    "You've implemented your first feature and successfully debugged a problem the robot was having with rectangular environments. Well done.\n",
    "\n",
    "## 축하합니다!\n",
    "\n",
    "첫 번째 기능을 구현하고 로봇이 직사각형 환경에서 겪고 있던 문제를 성공적으로 디버깅했습니다. 잘하셨습니다."
   ]
  },
  {
   "cell_type": "markdown",
   "metadata": {},
   "source": []
  }
 ],
 "metadata": {
  "kernelspec": {
   "display_name": "Python 3",
   "language": "python",
   "name": "python3"
  },
  "language_info": {
   "codemirror_mode": {
    "name": "ipython",
    "version": 3
   },
   "file_extension": ".py",
   "mimetype": "text/x-python",
   "name": "python",
   "nbconvert_exporter": "python",
   "pygments_lexer": "ipython3",
   "version": "3.12.6"
  }
 },
 "nbformat": 4,
 "nbformat_minor": 2
}
